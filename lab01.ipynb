{
 "cells": [
  {
   "cell_type": "code",
   "execution_count": 17,
   "id": "828822b7",
   "metadata": {},
   "outputs": [],
   "source": [
    "def caesar(text: chr, key: int, abc: list):\n",
    "    def caesar(text: chr, key: int):\n",
    "        return abc.index(text) + key\n",
    "    \n",
    "    if text.lower() not in abc:\n",
    "        return text\n",
    "    \n",
    "    new_text = abc[caesar(text.lower(), key) % len(abc)]\n",
    "    if text.isupper():\n",
    "        new_text = new_text.upper()\n",
    "    return new_text"
   ]
  },
  {
   "cell_type": "code",
   "execution_count": 18,
   "id": "cf84b5a1",
   "metadata": {},
   "outputs": [],
   "source": [
    "def caesar_encr(message: str, key: int, abc: list):\n",
    "    a = list(map(lambda text: caesar(text, key, abc), message))\n",
    "    return \"\".join(a)"
   ]
  },
  {
   "cell_type": "code",
   "execution_count": 19,
   "id": "c7b513f9",
   "metadata": {},
   "outputs": [
    {
     "name": "stdout",
     "output_type": "stream",
     "text": [
      "97 122\n",
      "1072 1103\n"
     ]
    }
   ],
   "source": [
    "print(ord(\"a\"), ord(\"z\"))\n",
    "print(ord(\"а\"), ord(\"я\"))"
   ]
  },
  {
   "cell_type": "code",
   "execution_count": 47,
   "id": "0b239dd0",
   "metadata": {},
   "outputs": [],
   "source": [
    "eng_c = list(map(chr, range(97, 123)))\n",
    "rus_c = list(map(chr, range(1072, 1104)))"
   ]
  },
  {
   "cell_type": "code",
   "execution_count": 49,
   "id": "5aa71408",
   "metadata": {},
   "outputs": [
    {
     "name": "stdout",
     "output_type": "stream",
     "text": [
      "Code: Vhfuhw ohwwhu\n",
      "Decoding: Secret letter\n"
     ]
    }
   ],
   "source": [
    "print(\"Code:\", caesar_encr(\"Secret letter\", 3, eng_c))\n",
    "print(\"Decoding:\", caesar_encr(\"Vhfuhw ohwwhu\", 23, eng_c))"
   ]
  },
  {
   "cell_type": "code",
   "execution_count": 50,
   "id": "4ca4bbad",
   "metadata": {},
   "outputs": [
    {
     "name": "stdout",
     "output_type": "stream",
     "text": [
      "Шифр: Хгмрси тлфяпс\n",
      "Расшифровка: Тайное письмо\n"
     ]
    }
   ],
   "source": [
    "print(\"Шифр:\", caesar_encr(\"Тайное письмо\", 3, rus_c))\n",
    "print(\"Расшифровка:\", caesar_encr(\"Хгмрси тлфяпс\", 29, rus_c))"
   ]
  },
  {
   "cell_type": "code",
   "execution_count": null,
   "id": "0316b630",
   "metadata": {},
   "outputs": [],
   "source": []
  },
  {
   "cell_type": "code",
   "execution_count": 37,
   "id": "05e913cf",
   "metadata": {},
   "outputs": [],
   "source": [
    "def atbash(text: chr, abc: list):\n",
    "    if text.lower() not in abc:\n",
    "        return text\n",
    "    new_text = abc[len(abc) - abc.index(text)-1]\n",
    "    if text.isupper():\n",
    "        new_text = new_text.upper()\n",
    "    return new_text"
   ]
  },
  {
   "cell_type": "code",
   "execution_count": 38,
   "id": "df5c2d6b",
   "metadata": {},
   "outputs": [],
   "source": [
    "def atbash_encr(message: str, abc: list):\n",
    "    a = list(map(lambda text: atbash(text, abc), message))\n",
    "    return \"\".join(a)"
   ]
  },
  {
   "cell_type": "code",
   "execution_count": 44,
   "id": "b43e90f8",
   "metadata": {},
   "outputs": [],
   "source": [
    "eng_a = list(map(chr, range(97, 123))) + list(chr(32))\n",
    "rus_a = list(map(chr, range(1072, 1104))) + list(chr(32))"
   ]
  },
  {
   "cell_type": "code",
   "execution_count": 52,
   "id": "0e3a4026",
   "metadata": {},
   "outputs": [
    {
     "name": "stdout",
     "output_type": "stream",
     "text": [
      "English alphabet:\n"
     ]
    },
    {
     "data": {
      "text/plain": [
       "' zyxwvutsrqponmlkjihgfedcba'"
      ]
     },
     "execution_count": 52,
     "metadata": {},
     "output_type": "execute_result"
    }
   ],
   "source": [
    "print(\"English alphabet:\")\n",
    "atbash_encr(\"abcdefghijklmnopqrstuvwxyz \", eng_a)"
   ]
  },
  {
   "cell_type": "code",
   "execution_count": 53,
   "id": "badfaa88",
   "metadata": {},
   "outputs": [
    {
     "name": "stdout",
     "output_type": "stream",
     "text": [
      "Русский алфавит:\n"
     ]
    },
    {
     "data": {
      "text/plain": [
       "' яюэьыъщшчцхфутсрпонмлкйизжедгвба'"
      ]
     },
     "execution_count": 53,
     "metadata": {},
     "output_type": "execute_result"
    }
   ],
   "source": [
    "print(\"Русский алфавит:\")\n",
    "atbash_encr(\"абвгдежзийклмнопрстуфхцчшщъыьэюя \", rus_a)"
   ]
  }
 ],
 "metadata": {
  "kernelspec": {
   "display_name": "Python 3 (ipykernel)",
   "language": "python",
   "name": "python3"
  },
  "language_info": {
   "codemirror_mode": {
    "name": "ipython",
    "version": 3
   },
   "file_extension": ".py",
   "mimetype": "text/x-python",
   "name": "python",
   "nbconvert_exporter": "python",
   "pygments_lexer": "ipython3",
   "version": "3.9.13"
  }
 },
 "nbformat": 4,
 "nbformat_minor": 5
}
